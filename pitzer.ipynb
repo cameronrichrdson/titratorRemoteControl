{
 "cells": [
  {
   "cell_type": "code",
   "execution_count": 1,
   "metadata": {},
   "outputs": [],
   "source": [
    "import pytzer as pz\n",
    "from collections import OrderedDict\n",
    "from pytzer.libraries import Millero98"
   ]
  },
  {
   "cell_type": "code",
   "execution_count": null,
   "metadata": {},
   "outputs": [],
   "source": [
    "# molality\n",
    "totals = OrderedDict({\n",
    "    \"CO2\": 0.001109,  #tot co2\n",
    "    \"SO4\": 0.028287,   \n",
    "    \"BOH3\": 0.000417, #tot boron\n",
    "    \"Mg\": 0.052865,    \n",
    "    \"Ca\": 0.010368,   \n",
    "    \"Cl\": 0.547256,\n",
    "    \"Na\": 0.467082,\n",
    "})\n",
    "\n",
    "# equilibrium solution\n",
    "solutes, pks_constants = pz.solve(\n",
    "    totals=totals,\n",
    "    exclude_equilibria=None,  #  exclude any equilibria\n",
    "    ks_constants=None,        # initial guesses for constants\n",
    "    ks_only=None,             #  keep  constants fixed\n",
    "    library=Millero98,         #  library for parameters\n",
    "    pressure=10.10325,        # pressure in dbar \n",
    "    temperature=292.15,       # temperature in Kelvin \n",
    "    verbose=False             # set to True for detailed output\n",
    ")"
   ]
  },
  {
   "cell_type": "code",
   "execution_count": null,
   "metadata": {},
   "outputs": [],
   "source": [
    "# Display the results\n",
    "print(\"Equilibrium solutes at thermodynamic equilibrium:\")\n",
    "for solute, molality in solutes.items():\n",
    "    print(f\"{solute}: {molality:.6f} mol/kg\")\n",
    "\n",
    "print(\"\\nEquilibrium constants (pKs):\")\n",
    "for equilibrium, pks in pks_constants.items():\n",
    "    print(f\"{equilibrium}: {pks:.6f}\")\n"
   ]
  }
 ],
 "metadata": {
  "kernelspec": {
   "display_name": "pytzer",
   "language": "python",
   "name": "python3"
  },
  "language_info": {
   "codemirror_mode": {
    "name": "ipython",
    "version": 3
   },
   "file_extension": ".py",
   "mimetype": "text/x-python",
   "name": "python",
   "nbconvert_exporter": "python",
   "pygments_lexer": "ipython3",
   "version": "3.12.7"
  }
 },
 "nbformat": 4,
 "nbformat_minor": 2
}
