{
 "cells": [
  {
   "cell_type": "code",
   "execution_count": 7,
   "metadata": {},
   "outputs": [
    {
     "name": "stdout",
     "output_type": "stream",
     "text": [
      "~~~~~~~~~~~~~~~~~~~~~~~~~~~~~~~~~~~~~~~~~~~~~~~~~~~~~~~~\n",
      "Mohr Titration recipe\n",
      "Expected aliquot of AgNO₃ needed for determination = 2.500000 mL\n",
      "For [AgNO₃] (mol/L) = 0.097460\n",
      "Prepare 5 erlenmeyer flasks each of composition:\n",
      "\n",
      "Stock solution (µL) = 93.711538\n",
      "Amount of indicator (5% K₂CrO₄) to add (mL) = 1\n",
      "DI water (mL) = 100.0\n",
      "~~~~~~~~~~~~~~~~~~~~~~~~~~~~~~~~~~~~~~~~~~~~~~~~~~~~~~~~\n",
      "true molarity of CaCl₂ solution (mol/L) = 1.094735\n"
     ]
    }
   ],
   "source": [
    "# %%%%%%%%%%%%%%%%%%%%%%%%%%%%%\n",
    "agno3_conc = 0.09746  # mol/L\n",
    "agno3_aliq = 0.0025   # L (amount of AgNO3 added for each titration)\n",
    "cacl2_conc = 1  # estimated CaCl2 concentration (gravimetric)\n",
    "# %%%%%%%%%%%%%%%%%%%%%%%%%%%%%\n",
    "\n",
    "mol_agno3 = agno3_conc * agno3_aliq\n",
    "mol_cacl2 = mol_agno3 / 2  # mol CaCl2\n",
    "\n",
    "dilutemol_cacl2 = mol_cacl2 / 0.13  # mol CaCl2 divided by arbitrary dilution factor\n",
    "\n",
    "L_cacl2 = (dilutemol_cacl2 * 0.1) / cacl2_conc  # amount of stock CaCl2 to add per 100 mL DI\n",
    "\n",
    "print(\"~~~~~~~~~~~~~~~~~~~~~~~~~~~~~~~~~~~~~~~~~~~~~~~~~~~~~~~~\")\n",
    "print(\"Mohr Titration recipe\")\n",
    "print(f\"Expected aliquot of AgNO₃ needed for determination = {agno3_aliq * 1000:.6f} mL\")\n",
    "print(f\"For [AgNO₃] (mol/L) = {agno3_conc:.6f}\")\n",
    "print(\"Prepare 5 erlenmeyer flasks each of composition:\\n\")\n",
    "print(f\"Stock solution (µL) = {L_cacl2 * 1e6:.6f}\")\n",
    "print(f\"Amount of indicator (5% K₂CrO₄) to add (mL) = {1}\")\n",
    "print(f\"DI water (mL) = {0.100 * 1000}\")\n",
    "print(\"~~~~~~~~~~~~~~~~~~~~~~~~~~~~~~~~~~~~~~~~~~~~~~~~~~~~~~~~\")\n",
    "\n",
    "agno3_aliqtrue = [2.15,2.02,2.15,2.1]  # volumes in mL\n",
    "avg_aliq = sum(agno3_aliqtrue) / len(agno3_aliqtrue) * 1e-3  # average in L\n",
    "\n",
    "true_Lcacl2 = 93.7e-6  # actual stock volume in L\n",
    "mol_cl = agno3_conc * avg_aliq\n",
    "mol_ca = (mol_cl / true_Lcacl2) / 2\n",
    "\n",
    "print(f\"true molarity of CaCl₂ solution (mol/L) = {mol_ca:.6f}\")\n"
   ]
  }
 ],
 "metadata": {
  "kernelspec": {
   "display_name": "pytzer",
   "language": "python",
   "name": "python3"
  },
  "language_info": {
   "codemirror_mode": {
    "name": "ipython",
    "version": 3
   },
   "file_extension": ".py",
   "mimetype": "text/x-python",
   "name": "python",
   "nbconvert_exporter": "python",
   "pygments_lexer": "ipython3",
   "version": "3.12.7"
  }
 },
 "nbformat": 4,
 "nbformat_minor": 2
}
