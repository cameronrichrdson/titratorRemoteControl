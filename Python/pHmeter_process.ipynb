{
 "cells": [
  {
   "cell_type": "code",
   "execution_count": 67,
   "metadata": {},
   "outputs": [],
   "source": [
    "import pandas as pd\n",
    "import numpy as np\n",
    "import os\n"
   ]
  },
  {
   "cell_type": "code",
   "execution_count": 93,
   "metadata": {},
   "outputs": [
    {
     "name": "stdout",
     "output_type": "stream",
     "text": [
      "Filtered data saved to /Users/cameronrichardson/Documents/Thesis/Experiments/titration data/30C/Ca/csv/~$S0529C20N04_filtered.csv\n",
      "Formatted .01a file saved to /Users/cameronrichardson/Documents/Thesis/Experiments/titration data/30C/Ca/csv/~$S0529C20N04.01a\n",
      "Filtered data saved to /Users/cameronrichardson/Documents/Thesis/Experiments/titration data/30C/Ca/csv/~$S0529C20N03_filtered.csv\n",
      "Formatted .01a file saved to /Users/cameronrichardson/Documents/Thesis/Experiments/titration data/30C/Ca/csv/~$S0529C20N03.01a\n"
     ]
    }
   ],
   "source": [
    "\n",
    "import glob\n",
    "# This script processes CSV files containing data from a specific experiment.\n",
    "# It reads the files, filters the data, adds cumulative volume, and formats the output.\n",
    "\n",
    "# Ask user for directory containing the CSV files\n",
    "directory = input(\"enter the directory for the titration files: \").strip()\n",
    "reference_path = os.path.join(directory, \"ref.01a\")\n",
    "\n",
    "# Load and preserve the .01a header\n",
    "with open(reference_path, \"r\") as ref_file:\n",
    "    header_lines = []\n",
    "    for line in ref_file:\n",
    "        header_lines.append(line)\n",
    "        if line.strip().startswith(\"0,\"):  # Stop after header block\n",
    "            break\n",
    "\n",
    "# Process each CSV file in the directory\n",
    "csv_files = glob.glob(os.path.join(directory, \"*.csv\"))\n",
    "\n",
    "for file_path in csv_files:\n",
    "    if \"filtered\" in file_path or \"formatted\" in file_path:\n",
    "        continue  # Skip already-processed files\n",
    "\n",
    "    # Step 1: Read and transpose\n",
    "    df = pd.read_csv(file_path, header=None)\n",
    "    df_transposed = df.T.reset_index(drop=True)\n",
    "    df_transposed.columns = ['mV', 'stable', 'dose']\n",
    "\n",
    "    # Step 2: Filter for stable == 1\n",
    "    df_filtered = df_transposed[df_transposed['stable'] == 1].copy()\n",
    "\n",
    "    # Step 3: Add cumulative volume (0.1 steps)\n",
    "    running_total = -0.1\n",
    "    running_totals = []\n",
    "    for _ in df_filtered.itertuples():\n",
    "        running_total += 0.1\n",
    "        running_totals.append(round(running_total, 1))\n",
    "\n",
    "    df_filtered['volume'] = running_totals\n",
    "    df_filtered.insert(0, 'volume', df_filtered.pop('volume'))\n",
    "\n",
    "    # Step 4: Save filtered CSV\n",
    "    base_name = os.path.splitext(os.path.basename(file_path))[0]\n",
    "    filtered_path = os.path.join(directory, f\"{base_name}_filtered.csv\")\n",
    "    df_filtered.to_csv(filtered_path, index=False)\n",
    "    print(f\"Filtered data saved to {filtered_path}\")\n",
    "\n",
    "    # Step 5: Format as .01a-style with header\n",
    "    formatted_data = []\n",
    "    for entry_counter, row in enumerate(df_filtered.itertuples(index=False)):\n",
    "        mv = f\"{row.mV:.3f}\"\n",
    "        cumulative_volume = f\"{row.volume:.3f}\"\n",
    "        entry_str = f\" {entry_counter}, {cumulative_volume}, {mv}\\n\"\n",
    "        formatted_data.append(entry_str)\n",
    "\n",
    "    output_lines = header_lines + formatted_data\n",
    "\n",
    "    # Step 6: Save final .01a file\n",
    "    formatted_output_path = os.path.join(directory, f\"{base_name}.01a\")\n",
    "    with open(formatted_output_path, \"w\") as out_file:\n",
    "        out_file.writelines(output_lines)\n",
    "\n",
    "    print(f\"Formatted .01a file saved to {formatted_output_path}\")\n"
   ]
  },
  {
   "cell_type": "code",
   "execution_count": null,
   "metadata": {},
   "outputs": [],
   "source": []
  }
 ],
 "metadata": {
  "kernelspec": {
   "display_name": "pytzer",
   "language": "python",
   "name": "python3"
  },
  "language_info": {
   "codemirror_mode": {
    "name": "ipython",
    "version": 3
   },
   "file_extension": ".py",
   "mimetype": "text/x-python",
   "name": "python",
   "nbconvert_exporter": "python",
   "pygments_lexer": "ipython3",
   "version": "3.12.7"
  }
 },
 "nbformat": 4,
 "nbformat_minor": 2
}
