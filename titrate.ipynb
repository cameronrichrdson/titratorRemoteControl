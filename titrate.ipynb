{
 "cells": [
  {
   "cell_type": "code",
   "execution_count": 14,
   "metadata": {},
   "outputs": [],
   "source": [
    "def delta(data, threshold=0.05):\n",
    "    last_15 = data[-15:]\n",
    "    threshold_met = []\n",
    "    for i in range(len((last_15))):\n",
    "        if i == 0:\n",
    "            continue\n",
    "        else:\n",
    "            diff = last_15[i] - last_15[i-1]\n",
    "            threshold_met.append(diff<=threshold)\n",
    "    \n",
    "    if False in threshold_met:\n",
    "        return False\n",
    "    else:\n",
    "        return True\n",
    "\n",
    "    # last_15_points = data[-15:]\n",
    "    # min_value = min(last_15_points)\n",
    "    # max_value = max(last_15_points)\n",
    "\n",
    "    # return False if (max_value - min_value) > threshold else True"
   ]
  },
  {
   "cell_type": "code",
   "execution_count": null,
   "metadata": {},
   "outputs": [],
   "source": []
  },
  {
   "cell_type": "code",
   "execution_count": 17,
   "metadata": {},
   "outputs": [
    {
     "data": {
      "text/plain": [
       "False"
      ]
     },
     "execution_count": 17,
     "metadata": {},
     "output_type": "execute_result"
    }
   ],
   "source": [
    "data = [0.1, 0.12, 0.11, 0.13, 0.14, 0.15, 0.16, 0.17, 0.3, 0.19, 0.2, 0.21, 0.22, 0.23, 0.24, 0.25, 0.26, 0.27, 0.28, 0.29]\n",
    "has_significant_change_binary(data)"
   ]
  },
  {
   "cell_type": "code",
   "execution_count": 21,
   "metadata": {},
   "outputs": [
    {
     "data": {
      "text/plain": [
       "False"
      ]
     },
     "execution_count": 21,
     "metadata": {},
     "output_type": "execute_result"
    }
   ],
   "source": [
    "len(data) < 15"
   ]
  },
  {
   "cell_type": "code",
   "execution_count": 39,
   "metadata": {},
   "outputs": [],
   "source": [
    "def delta(data):\n",
    "        last_15 = data[-15:]\n",
    "        threshold_met = []\n",
    "        return 0 \n",
    "        for i in range(1, len(last_15)):\n",
    "            diff = last_15[i] - last_15[i-1]\n",
    "            threshold_met.append(abs(diff) <= 0.05)\n",
    "\n",
    "        if all(threshold_met):\n",
    "            return 1\n",
    "        else:\n",
    "            return 0\n"
   ]
  },
  {
   "cell_type": "code",
   "execution_count": 46,
   "metadata": {},
   "outputs": [
    {
     "data": {
      "text/plain": [
       "0"
      ]
     },
     "execution_count": 46,
     "metadata": {},
     "output_type": "execute_result"
    }
   ],
   "source": [
    "data = 0.1, 0.12, 0.11, 0.13, 0.14, 0.15, 0.16, 0.17, 0.3, 0.19, 0.2, 0.21, 0.22, 0.23, 0.24, 0.25, 0.26, 0.27, 0.28, 0.29\n",
    "delta(data)"
   ]
  },
  {
   "cell_type": "code",
   "execution_count": 47,
   "metadata": {},
   "outputs": [],
   "source": [
    "def delta(data):\n",
    "    if len(data) < 15:\n",
    "        return 0\n",
    "\n",
    "    last_15 = data[-15:]\n",
    "    threshold_met = []\n",
    "\n",
    "    for i in range(1, len(last_15)):\n",
    "        diff = last_15[i] - last_15[i-1]\n",
    "        threshold_met.append(abs(diff) <= 0.05)\n",
    "\n",
    "    if all(threshold_met):\n",
    "        return 1\n",
    "    else:\n",
    "        return 0\n"
   ]
  },
  {
   "cell_type": "code",
   "execution_count": 48,
   "metadata": {},
   "outputs": [
    {
     "data": {
      "text/plain": [
       "0"
      ]
     },
     "execution_count": 48,
     "metadata": {},
     "output_type": "execute_result"
    }
   ],
   "source": [
    "delta(data)"
   ]
  },
  {
   "cell_type": "code",
   "execution_count": null,
   "metadata": {},
   "outputs": [],
   "source": []
  }
 ],
 "metadata": {
  "kernelspec": {
   "display_name": "titrator",
   "language": "python",
   "name": "python3"
  },
  "language_info": {
   "codemirror_mode": {
    "name": "ipython",
    "version": 3
   },
   "file_extension": ".py",
   "mimetype": "text/x-python",
   "name": "python",
   "nbconvert_exporter": "python",
   "pygments_lexer": "ipython3",
   "version": "3.10.16"
  }
 },
 "nbformat": 4,
 "nbformat_minor": 2
}
